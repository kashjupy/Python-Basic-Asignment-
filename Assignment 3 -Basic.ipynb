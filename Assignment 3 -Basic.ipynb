{
 "cells": [
  {
   "cell_type": "code",
   "execution_count": null,
   "id": "933365c9",
   "metadata": {},
   "outputs": [],
   "source": [
    "1>1. Why are functions advantageous to have in your programs?"
   ]
  },
  {
   "cell_type": "code",
   "execution_count": null,
   "id": "5ee18e95",
   "metadata": {},
   "outputs": [],
   "source": [
    "This makes code simple ,we can call the function  as we want"
   ]
  },
  {
   "cell_type": "code",
   "execution_count": null,
   "id": "b6055613",
   "metadata": {},
   "outputs": [],
   "source": [
    "2>When does the code in a function run: when it specified or when it called?"
   ]
  },
  {
   "cell_type": "code",
   "execution_count": null,
   "id": "253db67a",
   "metadata": {},
   "outputs": [],
   "source": [
    "The function works only when the Function is called"
   ]
  },
  {
   "cell_type": "code",
   "execution_count": null,
   "id": "51beced3",
   "metadata": {},
   "outputs": [],
   "source": [
    "3>. What statement creates a function?"
   ]
  },
  {
   "cell_type": "code",
   "execution_count": null,
   "id": "365a8ae9",
   "metadata": {},
   "outputs": [],
   "source": [
    "def creates function"
   ]
  },
  {
   "cell_type": "code",
   "execution_count": 2,
   "id": "7f34aa5d",
   "metadata": {},
   "outputs": [],
   "source": [
    "def karthik(a):\n",
    "    for i in a:\n",
    "        if type(i)==int:\n",
    "            print(i)"
   ]
  },
  {
   "cell_type": "code",
   "execution_count": null,
   "id": "3de45021",
   "metadata": {},
   "outputs": [],
   "source": [
    "4>What is the difference between a function and a function call?"
   ]
  },
  {
   "cell_type": "code",
   "execution_count": null,
   "id": "c3e5f1a8",
   "metadata": {},
   "outputs": [],
   "source": [
    "A function is procedure to achieve a particular result.Function call to do do the task as per code written inside the Function"
   ]
  },
  {
   "cell_type": "code",
   "execution_count": null,
   "id": "e447099e",
   "metadata": {},
   "outputs": [],
   "source": [
    "5> How many global scopes are there in a Python program? How many local scopes?"
   ]
  },
  {
   "cell_type": "code",
   "execution_count": null,
   "id": "26b70138",
   "metadata": {},
   "outputs": [],
   "source": [
    "There is one global scope, and a local scope is created whenever a function is called."
   ]
  },
  {
   "cell_type": "code",
   "execution_count": null,
   "id": "c3c8c6fc",
   "metadata": {},
   "outputs": [],
   "source": [
    "6> What happens to variables in a local scope when the function call returns?\n"
   ]
  },
  {
   "cell_type": "code",
   "execution_count": null,
   "id": "07253214",
   "metadata": {},
   "outputs": [],
   "source": [
    " When a function returns, the local scope is destroyed, and all the variables in it are forgotten."
   ]
  },
  {
   "cell_type": "code",
   "execution_count": null,
   "id": "0fb0734a",
   "metadata": {},
   "outputs": [],
   "source": [
    "7>. What is the concept of a return value? Is it possible to have a return value in an expression?\n"
   ]
  },
  {
   "cell_type": "code",
   "execution_count": 3,
   "id": "4a7ec0e9",
   "metadata": {},
   "outputs": [],
   "source": [
    "def addition(a,b):\n",
    "    a=int(a)\n",
    "    b=int(b)\n",
    "    return a+b"
   ]
  },
  {
   "cell_type": "code",
   "execution_count": 4,
   "id": "3de01b54",
   "metadata": {},
   "outputs": [
    {
     "data": {
      "text/plain": [
       "5"
      ]
     },
     "execution_count": 4,
     "metadata": {},
     "output_type": "execute_result"
    }
   ],
   "source": [
    "ret=addition(2,3)"
   ]
  },
  {
   "cell_type": "code",
   "execution_count": null,
   "id": "729c79db",
   "metadata": {},
   "outputs": [],
   "source": [
    "The difference between return nd the print function is the dtype of its function.\n"
   ]
  },
  {
   "cell_type": "code",
   "execution_count": null,
   "id": "e1b0f073",
   "metadata": {},
   "outputs": [],
   "source": [
    "8>If a function does not have a return statement, what is the return value of a call to that function?\n",
    "Ans: If there is no return statement for a function, its return value is None."
   ]
  },
  {
   "cell_type": "code",
   "execution_count": null,
   "id": "681795c1",
   "metadata": {},
   "outputs": [],
   "source": [
    "9> How do you make a function variable refer to the global variable?\n",
    "Ans: A global statement will force a variable in a function to refer to the global variable. If you want to refer to a global variable in a function, you can use the global keyword to declare which variables are global."
   ]
  },
  {
   "cell_type": "code",
   "execution_count": null,
   "id": "61ee0aeb",
   "metadata": {},
   "outputs": [],
   "source": [
    "10>What is the data type of None?\n",
    "Ans: The data type of None is NoneType."
   ]
  },
  {
   "cell_type": "code",
   "execution_count": null,
   "id": "2e451912",
   "metadata": {},
   "outputs": [],
   "source": [
    "11>. What does the sentence import areallyourpetsnamederic do?\n",
    "Ans: That import statement imports a module named areallyourpetsnamederic."
   ]
  },
  {
   "cell_type": "code",
   "execution_count": null,
   "id": "9ba508fc",
   "metadata": {},
   "outputs": [],
   "source": [
    "12> If you had a bacon() feature in a spam module, what would you call it after importing spam?\n",
    "Ans: This function can be called with spam.bacon()."
   ]
  },
  {
   "cell_type": "code",
   "execution_count": null,
   "id": "84fa92f7",
   "metadata": {},
   "outputs": [],
   "source": [
    "13>What can you do to save a programme from crashing if it encounters an error?\n",
    "Ans: Place the line of code that might cause an error in a try clause and use except block to handle the error."
   ]
  },
  {
   "cell_type": "code",
   "execution_count": null,
   "id": "9d61a021",
   "metadata": {},
   "outputs": [],
   "source": [
    "14>What is the purpose of the try clause? What is the purpose of the except clause?\n",
    "ANS:The code that could potentially cause an error goes in the try clause. The code that executes if an error happens goes in the except clause."
   ]
  }
 ],
 "metadata": {
  "kernelspec": {
   "display_name": "Python 3 (ipykernel)",
   "language": "python",
   "name": "python3"
  },
  "language_info": {
   "codemirror_mode": {
    "name": "ipython",
    "version": 3
   },
   "file_extension": ".py",
   "mimetype": "text/x-python",
   "name": "python",
   "nbconvert_exporter": "python",
   "pygments_lexer": "ipython3",
   "version": "3.9.7"
  }
 },
 "nbformat": 4,
 "nbformat_minor": 5
}
