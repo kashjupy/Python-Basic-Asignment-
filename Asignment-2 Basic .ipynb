{
 "cells": [
  {
   "cell_type": "code",
   "execution_count": null,
   "id": "22e9bbea",
   "metadata": {},
   "outputs": [],
   "source": [
    "1>What are the two values of the Boolean data type? How do you write them?"
   ]
  },
  {
   "cell_type": "code",
   "execution_count": null,
   "id": "5649cdcb",
   "metadata": {},
   "outputs": [],
   "source": [
    "There are two values in the boolean data type.\n",
    "1>True indicates logic 1\n",
    "2>False indicates logic 0\n"
   ]
  },
  {
   "cell_type": "code",
   "execution_count": null,
   "id": "da44f89a",
   "metadata": {},
   "outputs": [],
   "source": [
    "2>What are the three different types of Boolean operators?"
   ]
  },
  {
   "cell_type": "code",
   "execution_count": null,
   "id": "8f086f00",
   "metadata": {},
   "outputs": [],
   "source": [
    "AND,OR,NOT"
   ]
  },
  {
   "cell_type": "code",
   "execution_count": null,
   "id": "eb017e2a",
   "metadata": {},
   "outputs": [],
   "source": [
    "3. Make a list of each Boolean operator"
   ]
  },
  {
   "cell_type": "code",
   "execution_count": null,
   "id": "f4256acb",
   "metadata": {},
   "outputs": [],
   "source": [
    "AND \n",
    "A B Y \n",
    "0 0 0\n",
    "0 1 0 \n",
    "1 0 0 \n",
    "1 1 1\n",
    "\n",
    "OR \n",
    "A B Y\n",
    "0 0 0\n",
    "0 1 1\n",
    "1 0 1\n",
    "1 1 1\n",
    "NOT\n",
    "A Y\n",
    "0 1\n",
    "1 0"
   ]
  },
  {
   "cell_type": "code",
   "execution_count": null,
   "id": "9b32315c",
   "metadata": {},
   "outputs": [],
   "source": [
    "4. What are the values of the following expressions?\n",
    "(5 > 4) and (3 == 5)\n",
    "not (5 > 4)\n",
    "(5 > 4) or (3 == 5)\n",
    "not ((5 > 4) or (3 == 5))\n",
    "(True and True) and (True == False)\n",
    "(not False) or (not True)"
   ]
  },
  {
   "cell_type": "code",
   "execution_count": 1,
   "id": "a887d2d2",
   "metadata": {},
   "outputs": [
    {
     "name": "stdout",
     "output_type": "stream",
     "text": [
      "False\n",
      "False\n",
      "True\n",
      "False\n",
      "False\n",
      "True\n"
     ]
    }
   ],
   "source": [
    "print((5>4)and(3==5))\n",
    "print(not(5>4)) \n",
    "print((5>4)or(3==5)) \n",
    "print(not((5>4)or(3==5))) \n",
    "print((True and True)and(True==False)) \n",
    "print((not False)or(not True)) "
   ]
  },
  {
   "cell_type": "code",
   "execution_count": null,
   "id": "7419cc53",
   "metadata": {},
   "outputs": [],
   "source": [
    "5>What are the six comparison operators?"
   ]
  },
  {
   "cell_type": "code",
   "execution_count": null,
   "id": "f652a39f",
   "metadata": {},
   "outputs": [],
   "source": [
    "== , != , < , > , <= , =>"
   ]
  },
  {
   "cell_type": "code",
   "execution_count": null,
   "id": "aa910a14",
   "metadata": {},
   "outputs": [],
   "source": [
    "6> How do you tell the difference between the equal to and assignment operators?Describe a\n",
    "condition and when you would use one."
   ]
  },
  {
   "cell_type": "code",
   "execution_count": null,
   "id": "16e24f68",
   "metadata": {},
   "outputs": [],
   "source": [
    "A=10\n",
    "This stores a Value of 10 inside the A\n",
    "a=int(input())\n",
    "for i in a:\n",
    "    if type(i)==int:\n",
    "        print(i)\n",
    "This \"==\"is used to check whether the given condition is satisfies or not."
   ]
  },
  {
   "cell_type": "code",
   "execution_count": null,
   "id": "26504ea1",
   "metadata": {},
   "outputs": [],
   "source": [
    "7>Identify the three blocks in this code:\n",
    "spam = 0\n",
    "if spam == 10:\n",
    "    print(eggs)#block1\n",
    "if spam &gt; 5:\n",
    "    print(bacon)#block2\n",
    "else:          #block3\n",
    "    print(ham)\n",
    "print(spam)\n",
    "print('spam')"
   ]
  },
  {
   "cell_type": "code",
   "execution_count": null,
   "id": "3c59b6d4",
   "metadata": {},
   "outputs": [],
   "source": [
    "ham\n",
    "spam \n",
    "spam"
   ]
  },
  {
   "cell_type": "code",
   "execution_count": null,
   "id": "f2b89226",
   "metadata": {},
   "outputs": [],
   "source": [
    "8>Write code that prints Hello if 1 is stored in spam, prints Howdy if 2 is stored in spam, and prints\n",
    "Greetings! if anything else is stored in spam."
   ]
  },
  {
   "cell_type": "code",
   "execution_count": 13,
   "id": "bc86f768",
   "metadata": {},
   "outputs": [],
   "source": [
    "def spamcode(spam):\n",
    "    if spam == 1:\n",
    "            print(\"Hello\")\n",
    "    elif spam ==2:\n",
    "            print(\"Howdy\")\n",
    "    else:\n",
    "            print(\"Greetings\")"
   ]
  },
  {
   "cell_type": "code",
   "execution_count": 14,
   "id": "e25663ee",
   "metadata": {},
   "outputs": [
    {
     "name": "stdout",
     "output_type": "stream",
     "text": [
      "Hello\n"
     ]
    }
   ],
   "source": [
    "spamcode(1)"
   ]
  },
  {
   "cell_type": "code",
   "execution_count": 15,
   "id": "fb07f49c",
   "metadata": {},
   "outputs": [
    {
     "name": "stdout",
     "output_type": "stream",
     "text": [
      "Howdy\n"
     ]
    }
   ],
   "source": [
    "spamcode(2)"
   ]
  },
  {
   "cell_type": "code",
   "execution_count": 16,
   "id": "771b2393",
   "metadata": {},
   "outputs": [
    {
     "name": "stdout",
     "output_type": "stream",
     "text": [
      "Greetings\n"
     ]
    }
   ],
   "source": [
    "spamcode(3)"
   ]
  },
  {
   "cell_type": "code",
   "execution_count": null,
   "id": "3ca5b24d",
   "metadata": {},
   "outputs": [],
   "source": [
    "9.If your programme is stuck in an endless loop, what keys you’ll press?"
   ]
  },
  {
   "cell_type": "code",
   "execution_count": null,
   "id": "19d88892",
   "metadata": {},
   "outputs": [],
   "source": [
    " Press Ctrl-c to stop a program stuck in an infinite loop"
   ]
  },
  {
   "cell_type": "code",
   "execution_count": null,
   "id": "51baab0d",
   "metadata": {},
   "outputs": [],
   "source": [
    "10. How can you tell the difference between break and continue?"
   ]
  },
  {
   "cell_type": "code",
   "execution_count": null,
   "id": "c01b6dc0",
   "metadata": {},
   "outputs": [],
   "source": [
    "break will throw the compiler outside the loop and continue statement once again goes to the loop"
   ]
  },
  {
   "cell_type": "code",
   "execution_count": null,
   "id": "cb6514a6",
   "metadata": {},
   "outputs": [],
   "source": [
    "11. In a for loop, what is the difference between range(10), range(0, 10), and range(0, 10, 1)?"
   ]
  },
  {
   "cell_type": "code",
   "execution_count": null,
   "id": "4a5b7c0c",
   "metadata": {},
   "outputs": [],
   "source": [
    "range(10)-By default staring point is zero and ending point is 10\n",
    "range(0,10)-starting from 0 and ending point is 10 means excluding 10\n",
    "range(0,10,1)-starting from 0 and ending point is 10 means excluding 10 with jump of 1 "
   ]
  },
  {
   "cell_type": "code",
   "execution_count": null,
   "id": "95379df2",
   "metadata": {},
   "outputs": [],
   "source": [
    "12. Write a short program that prints the numbers 1 to 10 using a for loop. Then write an equivalent\n",
    "program that prints the numbers 1 to 10 using a while loop."
   ]
  },
  {
   "cell_type": "code",
   "execution_count": 18,
   "id": "1c9f0719",
   "metadata": {},
   "outputs": [
    {
     "name": "stdout",
     "output_type": "stream",
     "text": [
      "1\n",
      "2\n",
      "3\n",
      "4\n",
      "5\n",
      "6\n",
      "7\n",
      "8\n",
      "9\n",
      "10\n"
     ]
    }
   ],
   "source": [
    "for i in range(1,11):\n",
    "    print(i)"
   ]
  },
  {
   "cell_type": "code",
   "execution_count": null,
   "id": "f3f23cc9",
   "metadata": {},
   "outputs": [],
   "source": [
    "i=1\n",
    "while(i<11):\n",
    "    print(i):\n",
    "        i+=1"
   ]
  },
  {
   "cell_type": "code",
   "execution_count": null,
   "id": "9ff677c8",
   "metadata": {},
   "outputs": [],
   "source": [
    "13>If you had a function named bacon() inside a module named spam, how would you call it after\n",
    "importing spam?"
   ]
  },
  {
   "cell_type": "code",
   "execution_count": null,
   "id": "5f603400",
   "metadata": {},
   "outputs": [],
   "source": [
    "spam.bacon()"
   ]
  }
 ],
 "metadata": {
  "kernelspec": {
   "display_name": "Python 3 (ipykernel)",
   "language": "python",
   "name": "python3"
  },
  "language_info": {
   "codemirror_mode": {
    "name": "ipython",
    "version": 3
   },
   "file_extension": ".py",
   "mimetype": "text/x-python",
   "name": "python",
   "nbconvert_exporter": "python",
   "pygments_lexer": "ipython3",
   "version": "3.9.7"
  }
 },
 "nbformat": 4,
 "nbformat_minor": 5
}
