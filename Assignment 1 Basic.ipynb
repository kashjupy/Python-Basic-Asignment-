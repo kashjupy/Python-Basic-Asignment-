{
 "cells": [
  {
   "cell_type": "code",
   "execution_count": null,
   "id": "d9558060",
   "metadata": {},
   "outputs": [],
   "source": [
    "1>1. In the below elements which of them are values or an expression? eg:- values can be\n",
    "integer or string and expressions will be mathematical operators.\n",
    "\n",
    "\n",
    "* --Expression\n",
    "'hello'-value\n",
    "-87.8-Value\n",
    "-  --Expression\n",
    "/ ---Expression\n",
    "+ ----Expression\n",
    "6 ---Value\n",
    "\n",
    "\n",
    "\n",
    "2> What is the difference between string and variable?\n",
    "\n",
    "The values inside the quotations assigned to a string make up a string.\n",
    "A variable is simply the name of a location in your computers primary memory.\n",
    "You have the option of selecting this. Anything from strings to numbers can be stored in a variable.\n",
    "\n",
    "3> Describe three different data types.\n",
    "\n",
    "int , float, List \n",
    "INT:In Python, integers are zero, positive, or \n",
    "    negative whole numbers with no fractional part and infinite precision, for example, 0, 100, -10.\n",
    "float:In Python, the float type represents a floating point number. A decimal point divides the integer and fractional elements of a float, which\n",
    "      is used to represent real values. 97.98, 32.3+e18, and -32.54e100, for example, are all floating point numbers.\n",
    "List:The most versatile of Python compound data types are lists. Items are separated by commas and enclosed in square brackets in a list ([]). Lists are similar to\n",
    "    arrays in C in certain ways. One distinction is that all elements in a list can be of different data types.\n",
    "    \n",
    "    \n",
    "4>What is an expression made up of? What do all expressions do?\n",
    "  An expression is a construct that evaluates to a single value and is made up of variables, operators, and \n",
    "    method invocations that are built according to the syntax of the language.\n",
    "\n",
    "5>  This assignment statements, like spam = 10. What is the difference between an\n",
    "    expression and a statement?\n",
    "\n",
    "    Expression is made up of values, containers, and mathematical operators (operands) and the \n",
    "          statement is just like a command that a python interpreter executes like print.\n",
    "6>6. After running the following code, what does the variable bacon contain?\n",
    "bacon = 22\n",
    "bacon + 1\n",
    " Solution: 23\n",
    "7>7. What should the values of the following two terms be?\n",
    "'spam'+'spamspam'='spamspamspam'\n",
    "'spam'*3='spamspamspam'\n",
    "8>8. Why is eggs a valid variable name while 100 is invalid?\n",
    "     Because variable names cannot begin with a number\n",
    "9>9. What three functions can be used to get the integer, floating-point number, or string\n",
    "version of a value?\n",
    "The int() , float() , and str( ) functions will \n",
    "evaluate to the integer, floating-point number, and string versions of the value passed to them.\n",
    "10>10. Why does this expression cause an error? How can you fix it?\n",
    "'I have eaten'+99+'burritos.'\n",
    "Solution:\n",
    "    'I have eaten'+ str(99)+'burritos'"
   ]
  },
  {
   "cell_type": "code",
   "execution_count": 1,
   "id": "2eaf63b5",
   "metadata": {},
   "outputs": [
    {
     "data": {
      "text/plain": [
       "'spamspamspam'"
      ]
     },
     "execution_count": 1,
     "metadata": {},
     "output_type": "execute_result"
    }
   ],
   "source": []
  },
  {
   "cell_type": "code",
   "execution_count": 5,
   "id": "9b97826f",
   "metadata": {},
   "outputs": [
    {
     "ename": "TypeError",
     "evalue": "can only concatenate str (not \"int\") to str",
     "output_type": "error",
     "traceback": [
      "\u001b[1;31m---------------------------------------------------------------------------\u001b[0m",
      "\u001b[1;31mTypeError\u001b[0m                                 Traceback (most recent call last)",
      "\u001b[1;32m~\\AppData\\Local\\Temp/ipykernel_11940/2630289103.py\u001b[0m in \u001b[0;36m<module>\u001b[1;34m\u001b[0m\n\u001b[1;32m----> 1\u001b[1;33m \u001b[1;34m'I have eaten'\u001b[0m\u001b[1;33m+\u001b[0m\u001b[1;36m99\u001b[0m\u001b[1;33m+\u001b[0m\u001b[1;34m'burritos'\u001b[0m\u001b[1;33m\u001b[0m\u001b[1;33m\u001b[0m\u001b[0m\n\u001b[0m",
      "\u001b[1;31mTypeError\u001b[0m: can only concatenate str (not \"int\") to str"
     ]
    }
   ],
   "source": []
  },
  {
   "cell_type": "code",
   "execution_count": null,
   "id": "fff24675",
   "metadata": {},
   "outputs": [],
   "source": []
  }
 ],
 "metadata": {
  "kernelspec": {
   "display_name": "Python 3 (ipykernel)",
   "language": "python",
   "name": "python3"
  },
  "language_info": {
   "codemirror_mode": {
    "name": "ipython",
    "version": 3
   },
   "file_extension": ".py",
   "mimetype": "text/x-python",
   "name": "python",
   "nbconvert_exporter": "python",
   "pygments_lexer": "ipython3",
   "version": "3.9.7"
  }
 },
 "nbformat": 4,
 "nbformat_minor": 5
}
