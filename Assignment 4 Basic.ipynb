{
 "cells": [
  {
   "cell_type": "code",
   "execution_count": null,
   "id": "5b8ae062",
   "metadata": {},
   "outputs": [],
   "source": [
    "1. What exactly is []?"
   ]
  },
  {
   "cell_type": "code",
   "execution_count": 2,
   "id": "4d09b778",
   "metadata": {},
   "outputs": [],
   "source": [
    "Basically it is a square list,in python it is the reprenstation of the List"
   ]
  },
  {
   "cell_type": "code",
   "execution_count": null,
   "id": "63cb50a9",
   "metadata": {},
   "outputs": [],
   "source": [
    "2. In a list of values stored in a variable called spam, how would you assign the value &#39;hello&#39; as the\n",
    "third value? (Assume [2, 4, 6, 8, 10] are in spam.)"
   ]
  },
  {
   "cell_type": "code",
   "execution_count": 3,
   "id": "1fed12ca",
   "metadata": {},
   "outputs": [],
   "source": [
    "spam=[2,4,6,8,10]"
   ]
  },
  {
   "cell_type": "code",
   "execution_count": 4,
   "id": "40d42ddd",
   "metadata": {},
   "outputs": [],
   "source": [
    "spam[3]='hello'"
   ]
  },
  {
   "cell_type": "code",
   "execution_count": 5,
   "id": "c81081ef",
   "metadata": {},
   "outputs": [
    {
     "data": {
      "text/plain": [
       "[2, 4, 6, 'hello', 10]"
      ]
     },
     "execution_count": 5,
     "metadata": {},
     "output_type": "execute_result"
    }
   ],
   "source": [
    "spam"
   ]
  },
  {
   "cell_type": "code",
   "execution_count": 8,
   "id": "1be63535",
   "metadata": {},
   "outputs": [],
   "source": [
    "spam=['a','b','c','d']"
   ]
  },
  {
   "cell_type": "code",
   "execution_count": null,
   "id": "cb6a8fdf",
   "metadata": {},
   "outputs": [],
   "source": [
    "3>What is the value of spam[int(int(&#39;3&#39; * 2) / 11)]?"
   ]
  },
  {
   "cell_type": "code",
   "execution_count": 12,
   "id": "9e8f59f2",
   "metadata": {},
   "outputs": [
    {
     "data": {
      "text/plain": [
       "'d'"
      ]
     },
     "execution_count": 12,
     "metadata": {},
     "output_type": "execute_result"
    }
   ],
   "source": [
    "spam[int(int('3'*2)/11)]"
   ]
  },
  {
   "cell_type": "code",
   "execution_count": null,
   "id": "4e57d144",
   "metadata": {},
   "outputs": [],
   "source": [
    "4>What is the value of spam[-1]?"
   ]
  },
  {
   "cell_type": "code",
   "execution_count": null,
   "id": "f9b605cf",
   "metadata": {},
   "outputs": [],
   "source": [
    "'d'"
   ]
  },
  {
   "cell_type": "code",
   "execution_count": null,
   "id": "31f90323",
   "metadata": {},
   "outputs": [],
   "source": [
    "5>What is the value of spam[:2]?"
   ]
  },
  {
   "cell_type": "code",
   "execution_count": 13,
   "id": "79ef83bf",
   "metadata": {},
   "outputs": [
    {
     "data": {
      "text/plain": [
       "['a', 'b']"
      ]
     },
     "execution_count": 13,
     "metadata": {},
     "output_type": "execute_result"
    }
   ],
   "source": [
    " spam[:2]"
   ]
  },
  {
   "cell_type": "code",
   "execution_count": 16,
   "id": "e2e0c6c1",
   "metadata": {},
   "outputs": [],
   "source": [
    "bacon=[3.14, 'cat', 11,'cat',True]"
   ]
  },
  {
   "cell_type": "code",
   "execution_count": 18,
   "id": "7a86f68e",
   "metadata": {},
   "outputs": [],
   "source": [
    "6>What is the value of bacon.index(&#39;cat&#39;)?"
   ]
  },
  {
   "cell_type": "code",
   "execution_count": 19,
   "id": "06d9e865",
   "metadata": {},
   "outputs": [
    {
     "data": {
      "text/plain": [
       "1"
      ]
     },
     "execution_count": 19,
     "metadata": {},
     "output_type": "execute_result"
    }
   ],
   "source": [
    "bacon.index('cat')"
   ]
  },
  {
   "cell_type": "code",
   "execution_count": 20,
   "id": "c8c33178",
   "metadata": {},
   "outputs": [],
   "source": [
    "c=[99]"
   ]
  },
  {
   "cell_type": "code",
   "execution_count": null,
   "id": "36e21cef",
   "metadata": {},
   "outputs": [],
   "source": [
    "7>How does bacon.append(99) change the look of the list value in bacon?"
   ]
  },
  {
   "cell_type": "code",
   "execution_count": 21,
   "id": "ee8fc5b9",
   "metadata": {},
   "outputs": [],
   "source": [
    "bacon.append(99) "
   ]
  },
  {
   "cell_type": "code",
   "execution_count": 22,
   "id": "6d17e5fa",
   "metadata": {},
   "outputs": [
    {
     "data": {
      "text/plain": [
       "[3.14, 'cat', 11, 'cat', True, 99]"
      ]
     },
     "execution_count": 22,
     "metadata": {},
     "output_type": "execute_result"
    }
   ],
   "source": [
    "bacon"
   ]
  },
  {
   "cell_type": "code",
   "execution_count": null,
   "id": "393157c8",
   "metadata": {},
   "outputs": [],
   "source": [
    "8>How does bacon.remove(&#39;cat&#39;) change the look of the list in bacon?"
   ]
  },
  {
   "cell_type": "code",
   "execution_count": 23,
   "id": "243c40c9",
   "metadata": {},
   "outputs": [],
   "source": [
    "bacon.remove('cat')"
   ]
  },
  {
   "cell_type": "code",
   "execution_count": 24,
   "id": "738c68ed",
   "metadata": {},
   "outputs": [
    {
     "data": {
      "text/plain": [
       "[3.14, 11, 'cat', True, 99]"
      ]
     },
     "execution_count": 24,
     "metadata": {},
     "output_type": "execute_result"
    }
   ],
   "source": [
    "bacon"
   ]
  },
  {
   "cell_type": "code",
   "execution_count": null,
   "id": "5df13c5b",
   "metadata": {},
   "outputs": [],
   "source": [
    "9>What are the list concatenation and list replication operators?"
   ]
  },
  {
   "cell_type": "code",
   "execution_count": null,
   "id": "8ca07e5e",
   "metadata": {},
   "outputs": [],
   "source": [
    "The operator for list concatenation is +, while the operator for replication is *."
   ]
  },
  {
   "cell_type": "code",
   "execution_count": null,
   "id": "f66ee360",
   "metadata": {},
   "outputs": [],
   "source": [
    "10>What is difference between the list methods append() and insert()?"
   ]
  },
  {
   "cell_type": "code",
   "execution_count": null,
   "id": "5043fe20",
   "metadata": {},
   "outputs": [],
   "source": [
    "In list append we can able to append only from another list,but in case of the insert we can insert any value even thoigh it is not a list"
   ]
  },
  {
   "cell_type": "code",
   "execution_count": null,
   "id": "db7a324c",
   "metadata": {},
   "outputs": [],
   "source": [
    "11>What are the two methods for removing items from a list?"
   ]
  },
  {
   "cell_type": "code",
   "execution_count": 25,
   "id": "6927d16f",
   "metadata": {},
   "outputs": [],
   "source": [
    "L=[1,2,3,4]"
   ]
  },
  {
   "cell_type": "code",
   "execution_count": 26,
   "id": "ff1c3aae",
   "metadata": {},
   "outputs": [],
   "source": [
    "L.remove(1)"
   ]
  },
  {
   "cell_type": "code",
   "execution_count": 32,
   "id": "8ac9c2fe",
   "metadata": {},
   "outputs": [],
   "source": [
    "L.clear()"
   ]
  },
  {
   "cell_type": "code",
   "execution_count": null,
   "id": "0fabb5f7",
   "metadata": {},
   "outputs": [],
   "source": [
    "12>Describe how list values and string values are identical."
   ]
  },
  {
   "cell_type": "code",
   "execution_count": null,
   "id": "b611d0ec",
   "metadata": {},
   "outputs": [],
   "source": [
    "The differences between them are that firstly, Lists are mutable but Strings are immutable. Secondly, elements of a list can be of different types whereas a String only contains characters that are all of String type."
   ]
  },
  {
   "cell_type": "code",
   "execution_count": null,
   "id": "97b3dcd9",
   "metadata": {},
   "outputs": [],
   "source": [
    "13>What&#39;s the difference between tuples and lists?"
   ]
  },
  {
   "cell_type": "code",
   "execution_count": null,
   "id": "f7588da4",
   "metadata": {},
   "outputs": [],
   "source": [
    "List are mutable and tuples are immutable"
   ]
  },
  {
   "cell_type": "code",
   "execution_count": null,
   "id": "69f3fcf1",
   "metadata": {},
   "outputs": [],
   "source": [
    "14>14. How do you type a tuple value that only contains the integer 42?"
   ]
  },
  {
   "cell_type": "code",
   "execution_count": 33,
   "id": "2c01a363",
   "metadata": {},
   "outputs": [],
   "source": [
    "t=(42)"
   ]
  },
  {
   "cell_type": "code",
   "execution_count": null,
   "id": "653a4e4c",
   "metadata": {},
   "outputs": [],
   "source": [
    "15>How do you get a list value&#39;s tuple form? How do you get a tuple value&#39;s list form?"
   ]
  },
  {
   "cell_type": "code",
   "execution_count": 34,
   "id": "5744ac68",
   "metadata": {},
   "outputs": [],
   "source": [
    "l=[1,2,3,4]\n"
   ]
  },
  {
   "cell_type": "code",
   "execution_count": 37,
   "id": "e67e75e3",
   "metadata": {},
   "outputs": [],
   "source": [
    "c=tuple(l)"
   ]
  },
  {
   "cell_type": "code",
   "execution_count": 38,
   "id": "bfa9c939",
   "metadata": {},
   "outputs": [
    {
     "data": {
      "text/plain": [
       "(1, 2, 3, 4)"
      ]
     },
     "execution_count": 38,
     "metadata": {},
     "output_type": "execute_result"
    }
   ],
   "source": [
    "c"
   ]
  },
  {
   "cell_type": "code",
   "execution_count": 47,
   "id": "72bec9c1",
   "metadata": {},
   "outputs": [],
   "source": [
    "t=(1,5)"
   ]
  },
  {
   "cell_type": "code",
   "execution_count": 54,
   "id": "3170f536",
   "metadata": {},
   "outputs": [],
   "source": [
    "\n",
    "aTuple = (123, 'xyz', 'zara', 'abc');\n",
    "aList = list(aTuple)\n",
    "print (\"List elements : \", aList)"
   ]
  },
  {
   "cell_type": "code",
   "execution_count": null,
   "id": "276a5799",
   "metadata": {},
   "outputs": [],
   "source": [
    "16>Variables that &quot;contain&quot; list values are not necessarily lists themselves. Instead, what do they\n",
    "contain?"
   ]
  },
  {
   "cell_type": "code",
   "execution_count": null,
   "id": "dc00ea6a",
   "metadata": {},
   "outputs": [],
   "source": [
    "They contain references to list values."
   ]
  },
  {
   "cell_type": "code",
   "execution_count": null,
   "id": "b12fae91",
   "metadata": {},
   "outputs": [],
   "source": [
    "17>How do you distinguish between copy.copy() and copy.deepcopy()?"
   ]
  },
  {
   "cell_type": "code",
   "execution_count": null,
   "id": "cb36dbd8",
   "metadata": {},
   "outputs": [],
   "source": [
    "The copy.copy() function will do a shallow copy of a list, while the copy.deepcopy() function will do a deep copy of a list. That is, only copy.deepcopy() will duplicate any lists inside the list."
   ]
  },
  {
   "cell_type": "code",
   "execution_count": null,
   "id": "351ef0c0",
   "metadata": {},
   "outputs": [],
   "source": []
  }
 ],
 "metadata": {
  "kernelspec": {
   "display_name": "Python 3 (ipykernel)",
   "language": "python",
   "name": "python3"
  },
  "language_info": {
   "codemirror_mode": {
    "name": "ipython",
    "version": 3
   },
   "file_extension": ".py",
   "mimetype": "text/x-python",
   "name": "python",
   "nbconvert_exporter": "python",
   "pygments_lexer": "ipython3",
   "version": "3.9.7"
  }
 },
 "nbformat": 4,
 "nbformat_minor": 5
}
